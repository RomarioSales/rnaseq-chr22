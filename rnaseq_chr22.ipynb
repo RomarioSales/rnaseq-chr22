{
  "nbformat": 4,
  "nbformat_minor": 0,
  "metadata": {
    "colab": {
      "name": "rnaseq-chr22.ipynb",
      "provenance": [],
      "collapsed_sections": [
        "iWhzrClwYjdM",
        "pqfLxHPa0Sib"
      ],
      "include_colab_link": true
    },
    "kernelspec": {
      "name": "python3",
      "display_name": "Python 3"
    }
  },
  "cells": [
    {
      "cell_type": "markdown",
      "metadata": {
        "id": "view-in-github",
        "colab_type": "text"
      },
      "source": [
        "<a href=\"https://colab.research.google.com/github/renatopuga/rnaseq-chr22/blob/main/rnaseq_chr22.ipynb\" target=\"_parent\"><img src=\"https://colab.research.google.com/assets/colab-badge.svg\" alt=\"Open In Colab\"/></a>"
      ]
    },
    {
      "cell_type": "markdown",
      "metadata": {
        "id": "VRfBfVYBK-Gk"
      },
      "source": [
        "# RNAseq Google Colab\n",
        "> Prof. Renato Puga - renatopuga@gmail.com\n",
        "\n",
        "Aula prática de `RNAseq` da Pós-graduação de Bioinformática aplicada a Genômica Médica do Hospital Albert Einstein.\n",
        "\n",
        "# Objetivo \n",
        "\n",
        "Executar um pipeline de RNAseq para seis amostras simuladas*, preparando a referência do genoma, alinhando os arquivos fastqs até a tabela de contagem de reads.\n",
        "\n",
        "Cada uma das amostras contém 30 mil reads do chr22 do genoma humano hg19.\n",
        "\n",
        ">\\* As sequências foram geradas previamente com o comando `rsem-simulate-reads` do pacote RSEM.\n",
        "\n",
        "\n",
        "# STAR (Spliced Transcripts Alignment to a Reference)\n",
        "> https://academic.oup.com/bioinformatics/article/29/1/15/272537\n",
        "\n",
        "STAR é um alinhador projetado para abordar especificamente muitos dos desafios do mapeamento de dados RNA-seq usando uma estratégia para contabilizar alinhamentos emendados.\n",
        "\n"
      ]
    },
    {
      "cell_type": "markdown",
      "metadata": {
        "id": "9sxT-633LIyS"
      },
      "source": [
        "## Clonar Repositório git\n",
        "\n",
        "Ao criar um repositório no GitHub, ele passa a existir como um repositório remoto. É possível clonar o repositório para criar uma cópia local no Google Drive e sincronizar entre os dois locais."
      ]
    },
    {
      "cell_type": "markdown",
      "metadata": {
        "id": "eAIRBetmmQZi"
      },
      "source": [
        "Removendo arquivos e diretórios anteriores."
      ]
    },
    {
      "cell_type": "code",
      "metadata": {
        "id": "zgSXircull6g"
      },
      "source": [
        "%%bash\n",
        "cd /content/\n",
        "rm -rf rnaseq-chr22\n",
        "pwd"
      ],
      "execution_count": null,
      "outputs": []
    },
    {
      "cell_type": "code",
      "metadata": {
        "id": "oizt4FnjyITU"
      },
      "source": [
        "! git clone https://github.com/renatopuga/rnaseq-chr22"
      ],
      "execution_count": null,
      "outputs": []
    },
    {
      "cell_type": "markdown",
      "metadata": {
        "id": "iMGyrClgU5SF"
      },
      "source": [
        "## Entrando no Diretório Clonado\n",
        "\n",
        "Após clonar o repositório git, temos que entrar no diretório e seguir alguns passos de instalação para executar o pipeline STAR."
      ]
    },
    {
      "cell_type": "code",
      "metadata": {
        "id": "OW02a29Tycj8"
      },
      "source": [
        "%cd /content/rnaseq-chr22/"
      ],
      "execution_count": null,
      "outputs": []
    },
    {
      "cell_type": "markdown",
      "metadata": {
        "id": "iWhzrClwYjdM"
      },
      "source": [
        "## Download e Instalação STAR e RSEM"
      ]
    },
    {
      "cell_type": "markdown",
      "metadata": {
        "id": "YmnSwcscnjF1"
      },
      "source": [
        "- mkdir -p # ignora se o diretório existe\n",
        "- wget -c # volta o download a partir de onde parou.\n",
        "\n",
        "- TAR (agrupar) GZ (compactar) # igual ao ZIP no Windows\n",
        "- tar -zxvf # z: zipado; x: extrair; v: verbose f: files"
      ]
    },
    {
      "cell_type": "markdown",
      "metadata": {
        "id": "pqfLxHPa0Sib"
      },
      "source": [
        "## STAR download"
      ]
    },
    {
      "cell_type": "code",
      "metadata": {
        "id": "V5X0elsMzl6S"
      },
      "source": [
        "%%bash\n",
        "mkdir -p apps\n",
        "cd apps\n",
        "wget -c https://github.com/alexdobin/STAR/archive/2.7.8a.tar.gz\n",
        "tar -zxvf 2.7.8a.tar.gz"
      ],
      "execution_count": null,
      "outputs": []
    },
    {
      "cell_type": "markdown",
      "metadata": {
        "id": "fmhBJMQX0fdJ"
      },
      "source": [
        "## RSEM download"
      ]
    },
    {
      "cell_type": "code",
      "metadata": {
        "id": "TwqyqShV0cmg"
      },
      "source": [
        "%%bash\n",
        "cd /content/rnaseq-chr22/apps/\n",
        "wget -c https://github.com/deweylab/RSEM/archive/v1.3.3.tar.gz\n",
        "tar -zxvf v1.3.3.tar.gz"
      ],
      "execution_count": null,
      "outputs": []
    },
    {
      "cell_type": "code",
      "metadata": {
        "id": "jLRQH2owx92A"
      },
      "source": [
        "%%bash\n",
        "cd /content/rnaseq-chr22/apps/RSEM-1.3.3\n",
        "make\n",
        "cd ..\n"
      ],
      "execution_count": null,
      "outputs": []
    },
    {
      "cell_type": "markdown",
      "metadata": {
        "id": "Xl9yu3HYYtNy"
      },
      "source": [
        "# Gerando Index dos arquivos FASTA"
      ]
    },
    {
      "cell_type": "code",
      "metadata": {
        "id": "KNsvgZI30E3A"
      },
      "source": [
        "%cd /content/rnaseq-chr22/reference/"
      ],
      "execution_count": null,
      "outputs": []
    },
    {
      "cell_type": "markdown",
      "metadata": {
        "id": "3hw2s0c5Yyx9"
      },
      "source": [
        "# Instalando bowtie2\n",
        "> http://bowtie-bio.sourceforge.net/bowtie2/index.shtml\n",
        "\n",
        "Bowtie 2 is an ultrafast and memory-efficient tool for aligning sequencing reads to long reference sequences."
      ]
    },
    {
      "cell_type": "code",
      "metadata": {
        "id": "wJKP3-WT4RyY"
      },
      "source": [
        "!wget -c https://sourceforge.net/projects/bowtie-bio/files/bowtie2/2.4.2/bowtie2-2.4.2-sra-linux-x86_64.zip/download"
      ],
      "execution_count": null,
      "outputs": []
    },
    {
      "cell_type": "markdown",
      "metadata": {
        "id": "Mx33YhUgY4lO"
      },
      "source": [
        "# Descompactando (unzip)"
      ]
    },
    {
      "cell_type": "markdown",
      "metadata": {
        "id": "LhirmDufp7yQ"
      },
      "source": [
        "Descompactando arquivo .ZIP (download)"
      ]
    },
    {
      "cell_type": "code",
      "metadata": {
        "id": "QyInBYMA5hoB"
      },
      "source": [
        "!unzip download"
      ],
      "execution_count": null,
      "outputs": []
    },
    {
      "cell_type": "markdown",
      "metadata": {
        "id": "6L8fYo73ZM8E"
      },
      "source": [
        "# Variável de Ambiente\n",
        "Vamos adicionar o caminho do bowtie2 no PATH."
      ]
    },
    {
      "cell_type": "code",
      "metadata": {
        "id": "FF_ubfF7qSM6"
      },
      "source": [
        "%cd /content/rnaseq-chr22/reference/bowtie2-2.4.2-sra-linux-x86_64/\n",
        "%ls"
      ],
      "execution_count": null,
      "outputs": []
    },
    {
      "cell_type": "code",
      "metadata": {
        "id": "1pAXMf-f5p3u"
      },
      "source": [
        "# colocando o caminho do diretório bowtie2 na variável PATH\n",
        "!export PATH=$PWD/bowtie2-2.4.2-sra-linux-x86_64:$PATH"
      ],
      "execution_count": null,
      "outputs": []
    },
    {
      "cell_type": "markdown",
      "metadata": {
        "id": "w16T84-yHvq0"
      },
      "source": [
        "## Executando script makeRef.sh para indexar o arquivo chr22.fa"
      ]
    },
    {
      "cell_type": "code",
      "metadata": {
        "id": "vuWqoR7g10rT"
      },
      "source": [
        "%%bash\n",
        "cd /content/rnaseq-chr22/reference/\n",
        "sh makeRef.sh"
      ],
      "execution_count": null,
      "outputs": []
    },
    {
      "cell_type": "code",
      "metadata": {
        "id": "jzEoAt5f8fuV"
      },
      "source": [
        "# o arquivo rsem.grp deve estar na lista\n",
        "%ls rsem/"
      ],
      "execution_count": null,
      "outputs": []
    },
    {
      "cell_type": "markdown",
      "metadata": {
        "id": "JUHk9-H2ZnlL"
      },
      "source": [
        "# Voltando para o diretório principal"
      ]
    },
    {
      "cell_type": "code",
      "metadata": {
        "id": "gbpkhC3Y7U1n"
      },
      "source": [
        "%cd /content/rnaseq-chr22/"
      ],
      "execution_count": null,
      "outputs": []
    },
    {
      "cell_type": "markdown",
      "metadata": {
        "id": "lJwzJuWWZsPg"
      },
      "source": [
        "# Executar STAR"
      ]
    },
    {
      "cell_type": "code",
      "metadata": {
        "id": "V3uuHW2g7cTd"
      },
      "source": [
        "%%bash\n",
        "cd /content/rnaseq-chr22/\n",
        "sh run.star.rsem.sh"
      ],
      "execution_count": null,
      "outputs": []
    },
    {
      "cell_type": "markdown",
      "metadata": {
        "id": "8wVhA8_HZzpf"
      },
      "source": [
        "# Entrar no diretório de Resultados RNASEQ_data"
      ]
    },
    {
      "cell_type": "code",
      "metadata": {
        "id": "RdxQoOpLaUoL"
      },
      "source": [
        "# listando diretórios de output STAR e RSEM\n",
        "%cd /content/rnaseq-chr22/RNASEQ_data\n",
        "%ls "
      ],
      "execution_count": null,
      "outputs": []
    },
    {
      "cell_type": "code",
      "metadata": {
        "id": "YJ-FvmQA-CZB"
      },
      "source": [
        "# listando arquivos do diretorio A01\n",
        "%cd /content/rnaseq-chr22/RNASEQ_data\n",
        "%ls -lh A01"
      ],
      "execution_count": null,
      "outputs": []
    },
    {
      "cell_type": "code",
      "metadata": {
        "id": "2iA2TBD1EW-E"
      },
      "source": [
        "# listando arquivos do diretorio rsem.A01\n",
        "%cd /content/rnaseq-chr22/RNASEQ_data\n",
        "%ls -lh rsem.A01"
      ],
      "execution_count": null,
      "outputs": []
    },
    {
      "cell_type": "code",
      "metadata": {
        "id": "voKGEOf09V66"
      },
      "source": [
        "# copiando resultado de contagem de cada amostra e salvando com o \n",
        "# nome da amostra correspondente de cada arquivo.\n",
        "%%bash\n",
        "cd /content/rnaseq-chr22/RNASEQ_data \n",
        "mkdir -p gene-level\n",
        "ls -d1 rsem.*  | awk '{ print(\"cp -v\",$1\"/rsem.genes.results gene-level/\"$1)}'  | sh"
      ],
      "execution_count": null,
      "outputs": []
    },
    {
      "cell_type": "code",
      "metadata": {
        "id": "tgsg89B0FEsK"
      },
      "source": [
        "# utilizando script R para juntar amostras por gene\n",
        "%%bash\n",
        "cd /content/rnaseq-chr22/RNASEQ_data\n",
        "time R --slave --file=../run.merge.files.R --args gene-level 5 gene-level-5"
      ],
      "execution_count": null,
      "outputs": []
    },
    {
      "cell_type": "code",
      "metadata": {
        "id": "7MOsrYDbEmjF"
      },
      "source": [
        "# listando tabela merge STAR com todas as amostras por gene \n",
        "# Apenas genes do chr22\n",
        "%%bash\n",
        "cd /content/rnaseq-chr22/RNASEQ_data\n",
        "head merge-table-STAR-gene-level-5-50x.txt"
      ],
      "execution_count": null,
      "outputs": []
    }
  ]
}